{
 "cells": [
  {
   "cell_type": "code",
   "execution_count": 85,
   "id": "94a7fc04",
   "metadata": {},
   "outputs": [],
   "source": [
    "import numpy as np\n",
    "import pandas as pd\n",
    "\n",
    "import matplotlib.pyplot as plt\n",
    "import seaborn as sns\n",
    "\n",
    "%matplotlib inline"
   ]
  },
  {
   "cell_type": "code",
   "execution_count": null,
   "id": "3278b063",
   "metadata": {},
   "outputs": [],
   "source": []
  },
  {
   "cell_type": "code",
   "execution_count": 86,
   "id": "0d1ebaf7",
   "metadata": {},
   "outputs": [
    {
     "data": {
      "text/html": [
       "<div>\n",
       "<style scoped>\n",
       "    .dataframe tbody tr th:only-of-type {\n",
       "        vertical-align: middle;\n",
       "    }\n",
       "\n",
       "    .dataframe tbody tr th {\n",
       "        vertical-align: top;\n",
       "    }\n",
       "\n",
       "    .dataframe thead th {\n",
       "        text-align: right;\n",
       "    }\n",
       "</style>\n",
       "<table border=\"1\" class=\"dataframe\">\n",
       "  <thead>\n",
       "    <tr style=\"text-align: right;\">\n",
       "      <th></th>\n",
       "      <th>Unnamed: 0</th>\n",
       "      <th>ATP</th>\n",
       "      <th>B365L</th>\n",
       "      <th>B365W</th>\n",
       "      <th>Best of</th>\n",
       "      <th>Comment</th>\n",
       "      <th>Court</th>\n",
       "      <th>Date</th>\n",
       "      <th>L1</th>\n",
       "      <th>L2</th>\n",
       "      <th>...</th>\n",
       "      <th>Tournament</th>\n",
       "      <th>W1</th>\n",
       "      <th>W2</th>\n",
       "      <th>W3</th>\n",
       "      <th>W4</th>\n",
       "      <th>W5</th>\n",
       "      <th>WPts</th>\n",
       "      <th>WRank</th>\n",
       "      <th>Winner</th>\n",
       "      <th>Wsets</th>\n",
       "    </tr>\n",
       "  </thead>\n",
       "  <tbody>\n",
       "    <tr>\n",
       "      <th>0</th>\n",
       "      <td>0</td>\n",
       "      <td>1</td>\n",
       "      <td>NaN</td>\n",
       "      <td>NaN</td>\n",
       "      <td>3</td>\n",
       "      <td>Completed</td>\n",
       "      <td>Outdoor</td>\n",
       "      <td>03-01-2000</td>\n",
       "      <td>4.0</td>\n",
       "      <td>2</td>\n",
       "      <td>...</td>\n",
       "      <td>Australian Hardcourt Championships</td>\n",
       "      <td>6.0</td>\n",
       "      <td>6</td>\n",
       "      <td>NaN</td>\n",
       "      <td>NaN</td>\n",
       "      <td>NaN</td>\n",
       "      <td>NaN</td>\n",
       "      <td>63</td>\n",
       "      <td>Dosedel S.</td>\n",
       "      <td>2.0</td>\n",
       "    </tr>\n",
       "    <tr>\n",
       "      <th>1</th>\n",
       "      <td>1</td>\n",
       "      <td>1</td>\n",
       "      <td>NaN</td>\n",
       "      <td>NaN</td>\n",
       "      <td>3</td>\n",
       "      <td>Completed</td>\n",
       "      <td>Outdoor</td>\n",
       "      <td>03-01-2000</td>\n",
       "      <td>3.0</td>\n",
       "      <td>3</td>\n",
       "      <td>...</td>\n",
       "      <td>Australian Hardcourt Championships</td>\n",
       "      <td>6.0</td>\n",
       "      <td>6</td>\n",
       "      <td>NaN</td>\n",
       "      <td>NaN</td>\n",
       "      <td>NaN</td>\n",
       "      <td>NaN</td>\n",
       "      <td>5</td>\n",
       "      <td>Enqvist T.</td>\n",
       "      <td>2.0</td>\n",
       "    </tr>\n",
       "    <tr>\n",
       "      <th>2</th>\n",
       "      <td>2</td>\n",
       "      <td>1</td>\n",
       "      <td>NaN</td>\n",
       "      <td>NaN</td>\n",
       "      <td>3</td>\n",
       "      <td>Completed</td>\n",
       "      <td>Outdoor</td>\n",
       "      <td>03-01-2000</td>\n",
       "      <td>7.0</td>\n",
       "      <td>5</td>\n",
       "      <td>...</td>\n",
       "      <td>Australian Hardcourt Championships</td>\n",
       "      <td>6.0</td>\n",
       "      <td>7</td>\n",
       "      <td>6</td>\n",
       "      <td>NaN</td>\n",
       "      <td>NaN</td>\n",
       "      <td>NaN</td>\n",
       "      <td>40</td>\n",
       "      <td>Escude N.</td>\n",
       "      <td>2.0</td>\n",
       "    </tr>\n",
       "    <tr>\n",
       "      <th>3</th>\n",
       "      <td>3</td>\n",
       "      <td>1</td>\n",
       "      <td>NaN</td>\n",
       "      <td>NaN</td>\n",
       "      <td>3</td>\n",
       "      <td>Completed</td>\n",
       "      <td>Outdoor</td>\n",
       "      <td>03-01-2000</td>\n",
       "      <td>1.0</td>\n",
       "      <td>4</td>\n",
       "      <td>...</td>\n",
       "      <td>Australian Hardcourt Championships</td>\n",
       "      <td>6.0</td>\n",
       "      <td>6</td>\n",
       "      <td>NaN</td>\n",
       "      <td>NaN</td>\n",
       "      <td>NaN</td>\n",
       "      <td>NaN</td>\n",
       "      <td>65</td>\n",
       "      <td>Federer R.</td>\n",
       "      <td>2.0</td>\n",
       "    </tr>\n",
       "    <tr>\n",
       "      <th>4</th>\n",
       "      <td>4</td>\n",
       "      <td>1</td>\n",
       "      <td>NaN</td>\n",
       "      <td>NaN</td>\n",
       "      <td>3</td>\n",
       "      <td>Completed</td>\n",
       "      <td>Outdoor</td>\n",
       "      <td>03-01-2000</td>\n",
       "      <td>6.0</td>\n",
       "      <td>7</td>\n",
       "      <td>...</td>\n",
       "      <td>Australian Hardcourt Championships</td>\n",
       "      <td>7.0</td>\n",
       "      <td>5</td>\n",
       "      <td>6</td>\n",
       "      <td>NaN</td>\n",
       "      <td>NaN</td>\n",
       "      <td>NaN</td>\n",
       "      <td>81</td>\n",
       "      <td>Fromberg R.</td>\n",
       "      <td>2.0</td>\n",
       "    </tr>\n",
       "  </tbody>\n",
       "</table>\n",
       "<p>5 rows × 31 columns</p>\n",
       "</div>"
      ],
      "text/plain": [
       "   Unnamed: 0  ATP  B365L  B365W  Best of    Comment    Court        Date  \\\n",
       "0           0    1    NaN    NaN        3  Completed  Outdoor  03-01-2000   \n",
       "1           1    1    NaN    NaN        3  Completed  Outdoor  03-01-2000   \n",
       "2           2    1    NaN    NaN        3  Completed  Outdoor  03-01-2000   \n",
       "3           3    1    NaN    NaN        3  Completed  Outdoor  03-01-2000   \n",
       "4           4    1    NaN    NaN        3  Completed  Outdoor  03-01-2000   \n",
       "\n",
       "    L1 L2  ...                          Tournament   W1  W2   W3  W4  W5 WPts  \\\n",
       "0  4.0  2  ...  Australian Hardcourt Championships  6.0   6  NaN NaN NaN  NaN   \n",
       "1  3.0  3  ...  Australian Hardcourt Championships  6.0   6  NaN NaN NaN  NaN   \n",
       "2  7.0  5  ...  Australian Hardcourt Championships  6.0   7    6 NaN NaN  NaN   \n",
       "3  1.0  4  ...  Australian Hardcourt Championships  6.0   6  NaN NaN NaN  NaN   \n",
       "4  6.0  7  ...  Australian Hardcourt Championships  7.0   5    6 NaN NaN  NaN   \n",
       "\n",
       "  WRank       Winner Wsets  \n",
       "0    63   Dosedel S.   2.0  \n",
       "1     5   Enqvist T.   2.0  \n",
       "2    40    Escude N.   2.0  \n",
       "3    65   Federer R.   2.0  \n",
       "4    81  Fromberg R.   2.0  \n",
       "\n",
       "[5 rows x 31 columns]"
      ]
     },
     "execution_count": 86,
     "metadata": {},
     "output_type": "execute_result"
    }
   ],
   "source": [
    "df = pd.read_csv('Data.csv', low_memory=False)\n",
    "df.head()"
   ]
  },
  {
   "cell_type": "code",
   "execution_count": 87,
   "id": "bfddbb98",
   "metadata": {},
   "outputs": [],
   "source": [
    "#####DATA CLEANING#####\n",
    "\n",
    "#Drop first unnamed col and also the second 'ATP' col as it does not seem relevant here\n",
    "df = df.drop(['Unnamed: 0', 'ATP'], axis=1)"
   ]
  },
  {
   "cell_type": "code",
   "execution_count": 88,
   "id": "61181050",
   "metadata": {},
   "outputs": [],
   "source": [
    "# Drop NaN values from Bet365 odds col (either L or W col should do) - dataframe will reduce from ~55k rows to ~46k rows\n",
    "df = df[df['B365L'].notna()]\n",
    "\n",
    "# A lot of sets have no games won by a player - replacing NaN values in such occurrences with 0\n",
    "df[['L1', 'L2', 'L3', 'L4', 'L5', 'W1', 'W2', 'W3', 'W4', 'W5']] = df[['L1', 'L2', 'L3', 'L4', 'L5', 'W1', 'W2', 'W3', 'W4', 'W5']].fillna(0)\n",
    "\n",
    "# 'B365W' (23 rows), 'LRank' (82 rows), 'Lsets' (235 rows), 'WRank' (16 rows), 'Wsets' (234 rows) all have null\n",
    "# values - dropping these rows as they constitute a very small % of the overall dataset\n",
    "df = df.dropna(subset = ['B365W', 'LRank', 'Lsets', 'WRank', 'Wsets'])\n",
    "\n",
    "# 'LPts' and 'WPts' (which refers to ranking points of the winners and losers) are missing from about 8k rows, as it seems \n",
    "# the points system started only from 2005 onwards. Dropping these represents a significant chunk of the dataset, so an\n",
    "# approximation needs to be used. One way to do so would be to take the average rating points of all other players with the\n",
    "# same rank throughout the data set.\n",
    "\n",
    "# However, dataset is large enough to absorb this hit. For now, dropping the rows mentioned above, and the model will be \n",
    "# re-run later again after applying a function to approximate these 2 cols with missing values, just to check if it results\n",
    "# in greater accuracy. For now, the dataframe is reduced to 38k rows and includes data from only 2005 (from when ranking points\n",
    "# were given out).\n",
    "df = df.dropna(subset = ['LPts', 'WPts'])\n",
    "\n",
    "# A lot of cols are objects as they are a mix of floats, strings (sometimes containing integers), and Nans.\n",
    "# 'Comment' has 6 unique values with most of them simply being 'Completed', though some have other values like 'Retired'\n",
    "# 'Walkover', 'Awarded' etc. Of the 38k rows in the dataset, 36.7k have 'Completed', 1.2k have 'Retired', 1 has 'Disqualified',\n",
    "# 1 has 'Awarded', 6 have 'Walkover', and 2 have 'Sched'. So we can drop the latter 4 out of these 6 and apply one hot encoding\n",
    "# for only the top two most frequent values. For the sake of simplicity, just mapping the comment to values, though the data on\n",
    "# this coloumn should not have much bearing on the accuracy of this particular project.\n",
    "\n",
    "df = df[(df['Comment'] != 'Disqualified') & (df['Comment'] != 'Walkover') & (df['Comment'] != 'Awarded')\n",
    "        & (df['Comment'] != 'Sched')]\n",
    "\n",
    "df['Comment'] = df['Comment'].map({'Completed': 1, 'Retired': 0})\n",
    "\n",
    "# 'Court' has just 2 values - 'Indoor' and 'Outdoor' so we can apply a simple map\n",
    "df['Court'] = df['Court'].map({'Indoor': 1, 'Outdoor': 0})\n",
    "\n",
    "# 'Date' shouldn't have relevant data for projections here. Perhaps, long shots tend to happen more in certain seasons than\n",
    "# others, but seasons depend on the hemisphere. Or maybe when player is in a hot run in a short space of time. However, rather\n",
    "# than go engineer that much detail, for the sake of simplicity, I'm simply substituting date with cols for month & year.\n",
    "df['Year'] = pd.DatetimeIndex(df['Date']).year\n",
    "df['Month'] = pd.DatetimeIndex(df['Date']).month\n",
    "df = df.drop('Date', axis=1)\n",
    "\n",
    "# 'L2' & 'L3' have a lot of empty values including NaN's, or the integer values stored as strings, so these will have to\n",
    "# all be converted to floats\n",
    "\n",
    "df['L2'] = df['L2'].replace(r'^\\s*$', 0, regex=True) # Replaces empty strings with 0\n",
    "df['L2'] = df['L2'].fillna(0) # Replace NaN values with 0\n",
    "df['L2'] = df['L2'].apply(lambda x: float(x)) # Convert strings to floats\n",
    "\n",
    "df['L3'] = df['L3'].replace(r'^\\s*$', 0, regex=True) # Replaces empty strings with 0\n",
    "df['L3'] = df['L3'].fillna(0) # Replace NaN values with 0\n",
    "df['L3'] = df['L3'].apply(lambda x: float(x)) # Convert strings to floats\n",
    "\n",
    "# 'LRank' (Losing Player Rank) & 'WRank (Winning Player Rank)' have only one data type ('str') so these will also have to be\n",
    "# converted to floats\n",
    "df['LRank'] = df['LRank'].apply(lambda x: float(x)) # Convert strings to floats\n",
    "df['WRank'] = df['WRank'].apply(lambda x: float(x)) # Convert strings to floats\n",
    "\n",
    "# 'Location' does not have any value unless paired with the home country of the winning player, to see if home advantage\n",
    "# plays a role - but that data is not available here, hence dropping this col.\n",
    "df = df.drop('Location', axis=1)\n",
    "\n",
    "# 'Winner' & 'Loser' player names will be required for exploratory data analysis so leaving these cols alone for now. Will\n",
    "# delete them before applying model.\n",
    "\n",
    "# 'Lsets' also has its values stored as strings so these need to be converted to floats\n",
    "df = df[df['Lsets'] != '`1'] #Deleting the one row where Lset value was mistakenly entered as `1\n",
    "df['Lsets'] = df['Lsets'].apply(lambda x: float(x)) # Convert strings to floats\n",
    "\n",
    "# 'Round' simply refers to which round the game was played at and can be mapped to integers simply\n",
    "df['Round'] = df['Round'].map({'1st Round': 1, '2nd Round': 2, 'Quarterfinals': 5, 'Semifinals': 6,\n",
    "       'The Final': 7, '3rd Round': 3, '4th Round': 4, 'Round Robin': 0})\n",
    "\n",
    "# 'Series' refers to the type of tournament and can be mapped to integers as well since there's just 8 unique strings\n",
    "df['Series'] = df['Series'].map({'International': 7, 'International Gold': 6, 'Masters': 2, 'Grand Slam': 1, \n",
    "                                 'Masters Cup': 8, 'ATP250': 5, 'ATP500': 4, 'Masters 1000': 3})\n",
    "\n",
    "# 'Surface' also has just 4 values so can be mapped simply\n",
    "df['Surface'] = df['Surface'].map({'Clay': 2, 'Grass': 3, 'Hard': 1, 'Carpet': 4})\n",
    "\n",
    "# 'Tournament' name is irrelevant, and 'Series' has similar info, so dropping this col\n",
    "df = df.drop('Tournament', axis=1)\n",
    "\n",
    "# 'W2' & 'W3' also have integer values stored as strings, like 'L2' & 'L3' so these will have to all be converted to floats\n",
    "# as well - should've written a function for this, for now just making do with copy/paste.\n",
    "\n",
    "df['W2'] = df['W2'].replace(r'^\\s*$', 0, regex=True) # Replaces empty strings with 0\n",
    "df['W2'] = df['W2'].apply(lambda x: float(x)) # Convert strings to floats\n",
    "\n",
    "df['W3'] = df['W3'].replace(r'^\\s*$', 0, regex=True) # Replaces empty strings with 0\n",
    "df['W3'] = df['W3'].apply(lambda x: float(x)) # Convert strings to floats\n",
    "\n",
    "#Below used to check final results#\n",
    "# df.isnull().sum() \n",
    "# df.info()\n",
    "# df.head(5)\n",
    "\n",
    "\n"
   ]
  },
  {
   "cell_type": "code",
   "execution_count": 89,
   "id": "9250ca3d",
   "metadata": {},
   "outputs": [],
   "source": [
    "#####EXPLORATORY DATA ANALYSIS#####\n",
    "\n",
    "long_shot = 3.0 #setting long shot odds to 3.0\n",
    "\n",
    "# Creating separate dataframe only with winners whose odds were long shots\n",
    "df_long = df[df['B365W'] >= long_shot]\n",
    "\n",
    "# From this new dataframe, dropping unnecessary cols for this particular stat - these cols are not relevant for co-relation\n",
    "# col_list = list(df_long.columns) # Used to get list of cols to prevent typos\n",
    "df_EDA = df_long.drop(['B365L', 'Comment', 'L1', 'L2', 'L3', 'L4', 'L5', 'LPts', 'LRank', 'Loser', 'Lsets', 'W1', 'W2',\n",
    "                        'W3', 'W4', 'W5', 'WPts', 'WRank', 'Winner', 'Wsets'], axis=1)"
   ]
  },
  {
   "cell_type": "code",
   "execution_count": 90,
   "id": "8b6b5f50",
   "metadata": {},
   "outputs": [
    {
     "data": {
      "text/plain": [
       "<AxesSubplot:>"
      ]
     },
     "execution_count": 90,
     "metadata": {},
     "output_type": "execute_result"
    },
    {
     "data": {
      "image/png": "[encoded data removed]",
      "text/plain": [
       "<Figure size 864x288 with 2 Axes>"
      ]
     },
     "metadata": {
      "needs_background": "light"
     },
     "output_type": "display_data"
    }
   ],
   "source": [
    "#####EXPLORATORY DATA ANALYSIS#####\n",
    "\n",
    "# Q. Are long shot odds (>= 3.0) strongly corelated with any feature?\n",
    "\n",
    "# Set figure size for graphs\n",
    "plt.figure(figsize=(12,4))\n",
    "\n",
    "df_heatmap = df_EDA.corr()\n",
    "sns.heatmap(data=df_heatmap, annot=True)\n",
    "\n",
    "# A. No"
   ]
  },
  {
   "cell_type": "code",
   "execution_count": 91,
   "id": "2f5723ea",
   "metadata": {},
   "outputs": [
    {
     "data": {
      "text/html": [
       "<div>\n",
       "<style scoped>\n",
       "    .dataframe tbody tr th:only-of-type {\n",
       "        vertical-align: middle;\n",
       "    }\n",
       "\n",
       "    .dataframe tbody tr th {\n",
       "        vertical-align: top;\n",
       "    }\n",
       "\n",
       "    .dataframe thead th {\n",
       "        text-align: right;\n",
       "    }\n",
       "</style>\n",
       "<table border=\"1\" class=\"dataframe\">\n",
       "  <thead>\n",
       "    <tr style=\"text-align: right;\">\n",
       "      <th></th>\n",
       "      <th>B365W</th>\n",
       "      <th>Best of</th>\n",
       "      <th>Court</th>\n",
       "      <th>Round</th>\n",
       "      <th>Series</th>\n",
       "      <th>Surface</th>\n",
       "      <th>Year</th>\n",
       "      <th>Month</th>\n",
       "    </tr>\n",
       "  </thead>\n",
       "  <tbody>\n",
       "    <tr>\n",
       "      <th>16211</th>\n",
       "      <td>3.50</td>\n",
       "      <td>3</td>\n",
       "      <td>0</td>\n",
       "      <td>2</td>\n",
       "      <td>7</td>\n",
       "      <td>2</td>\n",
       "      <td>2005</td>\n",
       "      <td>6</td>\n",
       "    </tr>\n",
       "    <tr>\n",
       "      <th>16216</th>\n",
       "      <td>3.00</td>\n",
       "      <td>3</td>\n",
       "      <td>0</td>\n",
       "      <td>2</td>\n",
       "      <td>7</td>\n",
       "      <td>2</td>\n",
       "      <td>2005</td>\n",
       "      <td>7</td>\n",
       "    </tr>\n",
       "    <tr>\n",
       "      <th>16226</th>\n",
       "      <td>7.50</td>\n",
       "      <td>3</td>\n",
       "      <td>0</td>\n",
       "      <td>1</td>\n",
       "      <td>7</td>\n",
       "      <td>2</td>\n",
       "      <td>2005</td>\n",
       "      <td>5</td>\n",
       "    </tr>\n",
       "    <tr>\n",
       "      <th>16239</th>\n",
       "      <td>6.50</td>\n",
       "      <td>3</td>\n",
       "      <td>0</td>\n",
       "      <td>1</td>\n",
       "      <td>7</td>\n",
       "      <td>2</td>\n",
       "      <td>2005</td>\n",
       "      <td>5</td>\n",
       "    </tr>\n",
       "    <tr>\n",
       "      <th>16242</th>\n",
       "      <td>3.25</td>\n",
       "      <td>3</td>\n",
       "      <td>0</td>\n",
       "      <td>2</td>\n",
       "      <td>7</td>\n",
       "      <td>2</td>\n",
       "      <td>2005</td>\n",
       "      <td>6</td>\n",
       "    </tr>\n",
       "  </tbody>\n",
       "</table>\n",
       "</div>"
      ],
      "text/plain": [
       "       B365W  Best of  Court  Round  Series  Surface  Year  Month\n",
       "16211   3.50        3      0      2       7        2  2005      6\n",
       "16216   3.00        3      0      2       7        2  2005      7\n",
       "16226   7.50        3      0      1       7        2  2005      5\n",
       "16239   6.50        3      0      1       7        2  2005      5\n",
       "16242   3.25        3      0      2       7        2  2005      6"
      ]
     },
     "execution_count": 91,
     "metadata": {},
     "output_type": "execute_result"
    }
   ],
   "source": [
    "df_EDA.head()"
   ]
  },
  {
   "cell_type": "code",
   "execution_count": 92,
   "id": "34ce21a8",
   "metadata": {
    "scrolled": true
   },
   "outputs": [
    {
     "name": "stdout",
     "output_type": "stream",
     "text": [
      "Percentage of long shot odds winning in outdoor matches:  9.773393933533185\n",
      "Percentage of long shot odds winning in indoor matches:  10.044869011434361\n"
     ]
    },
    {
     "data": {
      "text/plain": [
       "<AxesSubplot:xlabel='Court', ylabel='Percent'>"
      ]
     },
     "execution_count": 92,
     "metadata": {},
     "output_type": "execute_result"
    },
    {
     "data": {
      "image/png": "[encoded data removed]",
      "text/plain": [
       "<Figure size 432x288 with 1 Axes>"
      ]
     },
     "metadata": {},
     "output_type": "display_data"
    }
   ],
   "source": [
    "#####EXPLORATORY DATA ANALYSIS#####\n",
    "\n",
    "# Q. Are long shot odds more likely to happen in Outdoor or Indoor courts?\n",
    "\n",
    "#Overall frequency of Odds vs Court:\n",
    "\n",
    "# plt.figure(figsize=(10,8))\n",
    "# sns.histplot(y='B365W', x='Court', data=df_EDA, legend=True)\n",
    "# plt.xlabel(\"Court (0: Outdoor, 1: Indoor)\")\n",
    "# plt.ylabel(\"Bet365 Odds\")\n",
    "\n",
    "#Since frequency is a bit skewed (due to many more matches being played Outdoors), let's go by the %:\n",
    "\n",
    "a = len(df[df['Court'] == 0]) # Total no. of outdoor matches\n",
    "b = len(df[(df['Court'] == 0) & (df['B365W'] >= long_shot)]) # Total no. of outdoor matches where winner had long shot odds\n",
    "ls_out_pct = (b*100)/a\n",
    "\n",
    "x = len(df[df['Court'] == 1]) # Total no. of indoor matches\n",
    "y = len(df[(df['Court'] == 1) & (df['B365W'] >= long_shot)]) # Total no. of indoor matches where winner had long shot odds\n",
    "ls_ind_pct = (y*100)/x\n",
    "\n",
    "print('Percentage of long shot odds winning in outdoor matches: ', ls_out_pct)\n",
    "print('Percentage of long shot odds winning in indoor matches: ', ls_ind_pct)\n",
    "\n",
    "# A. Practically no difference - long shot odds won in 9.77% of outdoor matches and 10.04% of indoor matches\n",
    "\n",
    "# Let's see this result visually:\n",
    "\n",
    "df['Long Shot'] = df['B365W'].apply(lambda x: 1 if x >= long_shot else 0) # Create new col with value=1 if long shot wins\n",
    "sns.set_style('whitegrid')\n",
    "tempdf = df.groupby('Court')['Long Shot'].value_counts(normalize=True) # New temp df with containing only relevant values\n",
    "tempdf = tempdf.mul(100).rename('Percent').reset_index() # Multiplying values by 100 as 'normalize' sets value between 0 & 1\n",
    "\n",
    "# 'Indoor': 1, 'Outdoor': 0\n",
    "sns.barplot(x='Court', y='Percent', hue='Long Shot', data=tempdf)\n",
    "\n"
   ]
  },
  {
   "cell_type": "code",
   "execution_count": 93,
   "id": "addf9946",
   "metadata": {},
   "outputs": [
    {
     "data": {
      "image/png": "[encoded data removed]",
      "text/plain": [
       "<Figure size 360x288 with 1 Axes>"
      ]
     },
     "metadata": {},
     "output_type": "display_data"
    }
   ],
   "source": [
    "# Below graph contains only the long shot odds % and is only for exploratory analysis and readme\n",
    "data = {'Court': ['Outdoor', 'Indoor'], 'Percent': [ls_out_pct, ls_ind_pct]} #Data for df with only relevant data\n",
    "dfblog = pd.DataFrame(data)\n",
    "plt.figure(figsize=(5,4))\n",
    "plt.ylim(0,12)\n",
    "\n",
    "splot= sns.barplot(x='Court', y='Percent', data=dfblog)\n",
    "\n",
    "# Function to display values on top of bars\n",
    "for p in splot.patches:\n",
    "    splot.annotate(format(p.get_height(), '.2f'), \n",
    "                   (p.get_x() + p.get_width() / 2., p.get_height()), \n",
    "                   ha = 'center', va = 'center', \n",
    "                   xytext = (0, 9), \n",
    "                   textcoords = 'offset points')    \n",
    "plt.show()"
   ]
  },
  {
   "cell_type": "code",
   "execution_count": 94,
   "id": "8bb2124c",
   "metadata": {},
   "outputs": [
    {
     "data": {
      "text/plain": [
       "<AxesSubplot:xlabel='Series', ylabel='Percent'>"
      ]
     },
     "execution_count": 94,
     "metadata": {},
     "output_type": "execute_result"
    },
    {
     "data": {
      "image/png": "[encoded data removed]",
      "text/plain": [
       "<Figure size 432x288 with 1 Axes>"
      ]
     },
     "metadata": {},
     "output_type": "display_data"
    }
   ],
   "source": [
    "#####EXPLORATORY DATA ANALYSIS#####\n",
    "\n",
    "# Q. Do any series favor long shot odds?\n",
    "\n",
    "sns.set_style('whitegrid')\n",
    "tempdf = df.groupby('Series')['Long Shot'].value_counts(normalize=True) # New temp df with containing only relevant values\n",
    "tempdf = tempdf.mul(100).rename('Percent').reset_index() # Multiplying values by 100 as 'normalize' sets value between 0 & 1\n",
    "\n",
    "# Codes: 'International': 7, 'International Gold': 6, 'Masters': 2, 'Grand Slam': 1, 'Masters Cup': 8, 'ATP250': 5,\n",
    "# 'ATP500': 4, 'Masters 1000': 3\n",
    "sns.barplot(x='Series', y='Percent', hue='Long Shot', data=tempdf)\n",
    "\n",
    "# A. It's all roughly similar, though there is a slightly greater chance of long shots in Masters Cup events - however, sample\n",
    "# size for these type of tournaments is just 221 which may be the reason for the slight skew (13% vs 10% for the others)"
   ]
  },
  {
   "cell_type": "code",
   "execution_count": 95,
   "id": "0a0f3ea3",
   "metadata": {},
   "outputs": [
    {
     "name": "stderr",
     "output_type": "stream",
     "text": [
      "<ipython-input-95-b2bf693b2e95>:7: SettingWithCopyWarning: \n",
      "A value is trying to be set on a copy of a slice from a DataFrame.\n",
      "Try using .loc[row_indexer,col_indexer] = value instead\n",
      "\n",
      "See the caveats in the documentation: https://pandas.pydata.org/pandas-docs/stable/user_guide/indexing.html#returning-a-view-versus-a-copy\n",
      "  tempdf1['Series'] = tempdf1['Series'].map({7: 'International', 6:'International Gold', 2: 'Masters', 1: 'Grand Slam', 8: 'Masters Cup', 5: 'ATP250', 4: 'ATP500', 3: 'Masters 1000'})\n"
     ]
    },
    {
     "data": {
      "image/png": "[encoded data removed]",
      "text/plain": [
       "<Figure size 864x288 with 1 Axes>"
      ]
     },
     "metadata": {},
     "output_type": "display_data"
    }
   ],
   "source": [
    "# Below graph contains only the long shot odds % and is only for the EDA/readme\n",
    "\n",
    "sns.set_style('whitegrid')\n",
    "tempdf1 = tempdf[tempdf['Long Shot'] == 1] # New df with only long-shot percentages in it\n",
    "\n",
    "# Labeling so it is displayed in graph\n",
    "tempdf1['Series'] = tempdf1['Series'].map({7: 'International', 6:'International Gold', 2: 'Masters', 1: 'Grand Slam', 8: 'Masters Cup', 5: 'ATP250', 4: 'ATP500', 3: 'Masters 1000'})\n",
    "\n",
    "plt.figure(figsize=(12,4))\n",
    "plt.ylim(0,15)\n",
    "\n",
    "splot= sns.barplot(x='Series', y='Percent', data=tempdf1)\n",
    "\n",
    "# Function to display values on top of bars\n",
    "for p in splot.patches:\n",
    "    splot.annotate(format(p.get_height(), '.2f'), \n",
    "                   (p.get_x() + p.get_width() / 2., p.get_height()), \n",
    "                   ha = 'center', va = 'center', \n",
    "                   xytext = (0, 9), \n",
    "                   textcoords = 'offset points')    \n",
    "plt.show()"
   ]
  },
  {
   "cell_type": "code",
   "execution_count": 96,
   "id": "f84177c6",
   "metadata": {},
   "outputs": [
    {
     "data": {
      "text/plain": [
       "<AxesSubplot:xlabel='Surface', ylabel='Percent'>"
      ]
     },
     "execution_count": 96,
     "metadata": {},
     "output_type": "execute_result"
    },
    {
     "data": {
      "image/png": "[encoded data removed]",
      "text/plain": [
       "<Figure size 432x288 with 1 Axes>"
      ]
     },
     "metadata": {},
     "output_type": "display_data"
    }
   ],
   "source": [
    "#####EXPLORATORY DATA ANALYSIS#####\n",
    "\n",
    "# Q. Do any surfaces favor long shot odds? What about court type?\n",
    "\n",
    "sns.set_style('whitegrid')\n",
    "tempdf = df.groupby('Court')['Long Shot'].value_counts(normalize=True) # New temp df with containing only relevant values\n",
    "tempdf = tempdf.mul(100).rename('Percent').reset_index() # Multiplying values by 100 as 'normalize' sets value between 0 & 1\n",
    "\n",
    "# Codes: 'Indoor': 1, 'Outdoor': 0\n",
    "sns.barplot(x='Court', y='Percent', hue='Long Shot', data=tempdf)\n",
    "\n",
    "sns.set_style('whitegrid')\n",
    "tempdf = df.groupby('Surface')['Long Shot'].value_counts(normalize=True) # New temp df with containing only relevant values\n",
    "tempdf = tempdf.mul(100).rename('Percent').reset_index() # Multiplying values by 100 as 'normalize' sets value between 0 & 1\n",
    "\n",
    "# Codes: 'Clay': 2, 'Grass': 3, 'Hard': 1, 'Carpet': 4\n",
    "sns.barplot(x='Surface', y='Percent', hue='Long Shot', data=tempdf)\n",
    "\n",
    "# A. No major different in court type (outdoor or indoor). There is slightly greater chance of long shots in 'Carpet' surfaces\n",
    "# (12% vs approx 10% for all the others) - however, here # again sample size for 'Carpet' matches is only 780 which may be \n",
    "# the reason for the skew."
   ]
  },
  {
   "cell_type": "code",
   "execution_count": 97,
   "id": "1276321d",
   "metadata": {},
   "outputs": [
    {
     "name": "stderr",
     "output_type": "stream",
     "text": [
      "<ipython-input-97-853eedc09c8f>:7: SettingWithCopyWarning: \n",
      "A value is trying to be set on a copy of a slice from a DataFrame.\n",
      "Try using .loc[row_indexer,col_indexer] = value instead\n",
      "\n",
      "See the caveats in the documentation: https://pandas.pydata.org/pandas-docs/stable/user_guide/indexing.html#returning-a-view-versus-a-copy\n",
      "  tempdf1['Surface'] = tempdf1['Surface'].map({2: 'Clay', 3: 'Grass', 1: 'Hard', 4: 'Carpet'})\n"
     ]
    },
    {
     "data": {
      "image/png": "[encoded data removed]",
      "text/plain": [
       "<Figure size 720x288 with 1 Axes>"
      ]
     },
     "metadata": {},
     "output_type": "display_data"
    }
   ],
   "source": [
    "# Below graph contains only the long shot odds % and is only for the EDA/readme\n",
    "\n",
    "sns.set_style('whitegrid')\n",
    "tempdf1 = tempdf[tempdf['Long Shot'] == 1] # New df with only long-shot percentages in it\n",
    "\n",
    "# Labeling so it is displayed in graph\n",
    "tempdf1['Surface'] = tempdf1['Surface'].map({2: 'Clay', 3: 'Grass', 1: 'Hard', 4: 'Carpet'})\n",
    "\n",
    "plt.figure(figsize=(10,4))\n",
    "plt.ylim(0,15)\n",
    "\n",
    "splot= sns.barplot(x='Surface', y='Percent', data=tempdf1)\n",
    "\n",
    "# Function to display values on top of bars\n",
    "for p in splot.patches:\n",
    "    splot.annotate(format(p.get_height(), '.2f'), \n",
    "                   (p.get_x() + p.get_width() / 2., p.get_height()), \n",
    "                   ha = 'center', va = 'center', \n",
    "                   xytext = (0, 9), \n",
    "                   textcoords = 'offset points')    \n",
    "plt.show()"
   ]
  },
  {
   "cell_type": "code",
   "execution_count": 98,
   "id": "0f7349b0",
   "metadata": {},
   "outputs": [
    {
     "data": {
      "text/plain": [
       "<AxesSubplot:xlabel='Best of', ylabel='Percent'>"
      ]
     },
     "execution_count": 98,
     "metadata": {},
     "output_type": "execute_result"
    },
    {
     "data": {
      "image/png": "[encoded data removed]",
      "text/plain": [
       "<Figure size 432x288 with 1 Axes>"
      ]
     },
     "metadata": {},
     "output_type": "display_data"
    }
   ],
   "source": [
    "#####EXPLORATORY DATA ANALYSIS#####\n",
    "\n",
    "# Q. Do length of matches (3-set or 5-set) have any bearing on succesful long shot odds?\n",
    "\n",
    "sns.set_style('whitegrid')\n",
    "tempdf = df.groupby('Best of')['Long Shot'].value_counts(normalize=True) # New temp df with containing only relevant values\n",
    "tempdf = tempdf.mul(100).rename('Percent').reset_index() # Multiplying values by 100 as 'normalize' sets value between 0 & 1\n",
    "\n",
    "\n",
    "sns.barplot(x='Best of', y='Percent', hue='Long Shot', data=tempdf)\n",
    "\n",
    "# A. No difference between 3-set and 5-set matches."
   ]
  },
  {
   "cell_type": "code",
   "execution_count": 99,
   "id": "5808048c",
   "metadata": {},
   "outputs": [
    {
     "name": "stderr",
     "output_type": "stream",
     "text": [
      "<ipython-input-99-8466e150207f>:7: SettingWithCopyWarning: \n",
      "A value is trying to be set on a copy of a slice from a DataFrame.\n",
      "Try using .loc[row_indexer,col_indexer] = value instead\n",
      "\n",
      "See the caveats in the documentation: https://pandas.pydata.org/pandas-docs/stable/user_guide/indexing.html#returning-a-view-versus-a-copy\n",
      "  tempdf1['Best of'] = tempdf1['Best of'].map({3: '3 sets', 5: '5 sets'})\n"
     ]
    },
    {
     "data": {
      "image/png": "[encoded data removed]",
      "text/plain": [
       "<Figure size 360x288 with 1 Axes>"
      ]
     },
     "metadata": {},
     "output_type": "display_data"
    }
   ],
   "source": [
    "# Below graph contains only the long shot odds % and is only for the EDA/readme\n",
    "\n",
    "sns.set_style('whitegrid')\n",
    "tempdf1 = tempdf[tempdf['Long Shot'] == 1] # New df with only long-shot percentages in it\n",
    "\n",
    "# Labeling so it is displayed in graph\n",
    "tempdf1['Best of'] = tempdf1['Best of'].map({3: '3 sets', 5: '5 sets'})\n",
    "\n",
    "plt.figure(figsize=(5,4))\n",
    "plt.ylim(0,12)\n",
    "\n",
    "splot= sns.barplot(x='Best of', y='Percent', data=tempdf1)\n",
    "\n",
    "# Function to display values on top of bars\n",
    "for p in splot.patches:\n",
    "    splot.annotate(format(p.get_height(), '.2f'), \n",
    "                   (p.get_x() + p.get_width() / 2., p.get_height()), \n",
    "                   ha = 'center', va = 'center', \n",
    "                   xytext = (0, 9), \n",
    "                   textcoords = 'offset points')    \n",
    "plt.show()"
   ]
  },
  {
   "cell_type": "code",
   "execution_count": null,
   "id": "64cf15d1",
   "metadata": {},
   "outputs": [],
   "source": []
  },
  {
   "cell_type": "code",
   "execution_count": 100,
   "id": "1a52f30a",
   "metadata": {},
   "outputs": [
    {
     "data": {
      "text/plain": [
       "<AxesSubplot:xlabel='Round', ylabel='Percent'>"
      ]
     },
     "execution_count": 100,
     "metadata": {},
     "output_type": "execute_result"
    },
    {
     "data": {
      "image/png": "[encoded data removed]",
      "text/plain": [
       "<Figure size 432x288 with 1 Axes>"
      ]
     },
     "metadata": {},
     "output_type": "display_data"
    }
   ],
   "source": [
    "# Q. Does the stage of the tournament (ie which round it is) have any bearing on succesful long shot odds?\n",
    "\n",
    "sns.set_style('whitegrid')\n",
    "tempdf = df.groupby('Round')['Long Shot'].value_counts(normalize=True) # New temp df with containing only relevant values\n",
    "tempdf = tempdf.mul(100).rename('Percent').reset_index() # Multiplying values by 100 as 'normalize' sets value between 0 & 1\n",
    "\n",
    "# Codes: '1st Round': 1, '2nd Round': 2, 'Quarterfinals': 5, 'Semifinals': 6, 'The Final': 7, '3rd Round': 3, '4th Round': 4,\n",
    "#'Round Robin': 0\n",
    "sns.barplot(x='Round', y='Percent', hue='Long Shot', data=tempdf)\n",
    "\n",
    "# A. It's all roughly similar - there is slight decrease in chance of long shots in the 4th round (8.5% vs 10%) but overall, \n",
    "# it's roughly similar."
   ]
  },
  {
   "cell_type": "code",
   "execution_count": 101,
   "id": "ff7e91a0",
   "metadata": {},
   "outputs": [
    {
     "name": "stderr",
     "output_type": "stream",
     "text": [
      "<ipython-input-101-a2034397c2c0>:9: SettingWithCopyWarning: \n",
      "A value is trying to be set on a copy of a slice from a DataFrame.\n",
      "Try using .loc[row_indexer,col_indexer] = value instead\n",
      "\n",
      "See the caveats in the documentation: https://pandas.pydata.org/pandas-docs/stable/user_guide/indexing.html#returning-a-view-versus-a-copy\n",
      "  tempdf1['Round'] = tempdf1['Round'].map({1: 'Round 1', 2: 'Round 2', 5: 'QF', 6: 'SF',\n"
     ]
    },
    {
     "data": {
      "image/png": "[encoded data removed]",
      "text/plain": [
       "<Figure size 864x288 with 1 Axes>"
      ]
     },
     "metadata": {},
     "output_type": "display_data"
    }
   ],
   "source": [
    "# Q. Are long shot odds more likely to happen in any particular round of the tournamen?\n",
    "\n",
    "# Below graph contains only the long shot odds % and is only for the EDA/readme\n",
    "\n",
    "sns.set_style('whitegrid')\n",
    "tempdf1 = tempdf[tempdf['Long Shot'] == 1] # New df with only long-shot percentages in it\n",
    "\n",
    "# Labeling so it is displayed in graph\n",
    "tempdf1['Round'] = tempdf1['Round'].map({1: 'Round 1', 2: 'Round 2', 5: 'QF', 6: 'SF',\n",
    "       7: 'Final', 3: 'Round 3', 4: 'Round 4', 0: 'Round Robin'})\n",
    "\n",
    "plt.figure(figsize=(12,4))\n",
    "plt.ylim(0,14)\n",
    "\n",
    "splot= sns.barplot(x='Round', y='Percent', data=tempdf1)\n",
    "\n",
    "# Function to display values on top of bars\n",
    "for p in splot.patches:\n",
    "    splot.annotate(format(p.get_height(), '.2f'), \n",
    "                   (p.get_x() + p.get_width() / 2., p.get_height()), \n",
    "                   ha = 'center', va = 'center', \n",
    "                   xytext = (0, 9), \n",
    "                   textcoords = 'offset points')    \n",
    "plt.show()"
   ]
  },
  {
   "cell_type": "code",
   "execution_count": 102,
   "id": "cd6b1fde",
   "metadata": {},
   "outputs": [
    {
     "data": {
      "text/plain": [
       "<AxesSubplot:xlabel='Month', ylabel='Percent'>"
      ]
     },
     "execution_count": 102,
     "metadata": {},
     "output_type": "execute_result"
    },
    {
     "data": {
      "image/png": "[encoded data removed]",
      "text/plain": [
       "<Figure size 432x288 with 1 Axes>"
      ]
     },
     "metadata": {},
     "output_type": "display_data"
    }
   ],
   "source": [
    "# Q. Do succesful long shot odds occur in particular months of the year?\n",
    "\n",
    "sns.set_style('whitegrid')\n",
    "tempdf = df.groupby('Month')['Long Shot'].value_counts(normalize=True) # New temp df with containing only relevant values\n",
    "tempdf = tempdf.mul(100).rename('Percent').reset_index() # Multiplying values by 100 as 'normalize' sets value between 0 & 1\n",
    "\n",
    "sns.barplot(x='Month', y='Percent', hue='Long Shot', data=tempdf)\n",
    "\n",
    "# A. No, the chance of long shots are independent of the month with all being within one percentage point of each other. There\n",
    "# is a very slight uptick in chance in the (northern hemisphere) winter months of Nov & Dec"
   ]
  },
  {
   "cell_type": "code",
   "execution_count": 103,
   "id": "ede71aa8",
   "metadata": {},
   "outputs": [
    {
     "name": "stderr",
     "output_type": "stream",
     "text": [
      "<ipython-input-103-d819f845618a>:9: SettingWithCopyWarning: \n",
      "A value is trying to be set on a copy of a slice from a DataFrame.\n",
      "Try using .loc[row_indexer,col_indexer] = value instead\n",
      "\n",
      "See the caveats in the documentation: https://pandas.pydata.org/pandas-docs/stable/user_guide/indexing.html#returning-a-view-versus-a-copy\n",
      "  tempdf1['Month'] = tempdf1['Month'].map({1: 'Jan', 2: 'Feb', 3: 'Mar', 4: 'Apr', 5: 'May', 6: 'Jun', 7: 'Jul', 8: 'Aug',\n"
     ]
    },
    {
     "data": {
      "image/png": "[encoded data removed]",
      "text/plain": [
       "<Figure size 864x288 with 1 Axes>"
      ]
     },
     "metadata": {},
     "output_type": "display_data"
    }
   ],
   "source": [
    "# Are long shot odds more likely to happen in any particular month of the year?\n",
    "\n",
    "# Below graph contains only the long shot odds % and is only for the blog\n",
    "\n",
    "sns.set_style('whitegrid')\n",
    "tempdf1 = tempdf[tempdf['Long Shot'] == 1] # New df with only long-shot percentages in it\n",
    "\n",
    "# Labeling so it is displayed in graph\n",
    "tempdf1['Month'] = tempdf1['Month'].map({1: 'Jan', 2: 'Feb', 3: 'Mar', 4: 'Apr', 5: 'May', 6: 'Jun', 7: 'Jul', 8: 'Aug',\n",
    "                                        9: 'Sep', 10: 'Oct', 11: 'Nov', 12: 'Dec'})\n",
    "\n",
    "plt.figure(figsize=(12,4))\n",
    "plt.ylim(0,14)\n",
    "\n",
    "splot= sns.barplot(x='Month', y='Percent', data=tempdf1)\n",
    "\n",
    "# Function to display values on top of bars\n",
    "for p in splot.patches:\n",
    "    splot.annotate(format(p.get_height(), '.2f'), \n",
    "                   (p.get_x() + p.get_width() / 2., p.get_height()), \n",
    "                   ha = 'center', va = 'center', \n",
    "                   xytext = (0, 9), \n",
    "                   textcoords = 'offset points')    \n",
    "plt.show()"
   ]
  },
  {
   "cell_type": "code",
   "execution_count": 104,
   "id": "3bb709c0",
   "metadata": {},
   "outputs": [
    {
     "data": {
      "text/plain": [
       "<AxesSubplot:xlabel='Best of', ylabel='Percent'>"
      ]
     },
     "execution_count": 104,
     "metadata": {},
     "output_type": "execute_result"
    },
    {
     "data": {
      "image/png": "[encoded data removed]",
      "text/plain": [
       "<Figure size 432x288 with 1 Axes>"
      ]
     },
     "metadata": {},
     "output_type": "display_data"
    }
   ],
   "source": [
    "# Q. Do succesful long shot odds tend to occur in 3 set or 5 set games?\n",
    "\n",
    "sns.set_style('whitegrid')\n",
    "tempdf = df.groupby('Best of')['Long Shot'].value_counts(normalize=True) # New temp df with containing only relevant values\n",
    "tempdf = tempdf.mul(100).rename('Percent').reset_index() # Multiplying values by 100 as 'normalize' sets value between 0 & 1\n",
    "\n",
    "sns.barplot(x='Best of', y='Percent', hue='Long Shot', data=tempdf)\n",
    "\n",
    "# A. No difference - equal chance in both."
   ]
  },
  {
   "cell_type": "code",
   "execution_count": null,
   "id": "b7383da0",
   "metadata": {},
   "outputs": [],
   "source": []
  },
  {
   "cell_type": "code",
   "execution_count": 105,
   "id": "fff2d947",
   "metadata": {},
   "outputs": [
    {
     "data": {
      "text/plain": [
       "<AxesSubplot:xlabel='Rank Difference', ylabel='Count'>"
      ]
     },
     "execution_count": 105,
     "metadata": {},
     "output_type": "execute_result"
    },
    {
     "data": {
      "image/png": "[encoded data removed]",
      "text/plain": [
       "<Figure size 720x432 with 1 Axes>"
      ]
     },
     "metadata": {},
     "output_type": "display_data"
    }
   ],
   "source": [
    "# Q. What difference in rankings/points between players favor long shot odds winning?\n",
    "\n",
    "# df_EDA['Rank Difference'] = df['WRank'] - df['LRank'] # New col containing rank difference between winner and loser\n",
    "\n",
    "# sns.set_style('whitegrid')\n",
    "# plt.xlim(-200,200) # Set x-axis limit to make graph readable\n",
    "# sns.histplot(x='Rank Difference', bins=90, data=df_EDA)\n",
    "\n",
    "df['Rank Difference'] = df['WRank'] - df['LRank'] # New col containing rank difference between winner and loser\n",
    "\n",
    "df['Rank Difference'] = df['Rank Difference'].apply(lambda x: (x**2)**0.5) # Taking sqrt of squares to make values +ve\n",
    "\n",
    "sns.set_style('whitegrid')\n",
    "plt.figure(figsize=(10,6))\n",
    "plt.xlim(0,200) # Set x-axis limit to make graph readable\n",
    "sns.histplot(x='Rank Difference', hue='Long Shot', bins=200, data=df)\n",
    "\n",
    "# A. While it is intuitive that bookies will only offer long shot odds when the difference in rank is significant, still \n",
    "# there appears to be greater % chance of long shot coming good when rank difference is between the 35 to 60 mark - this \n",
    "# looks like it could be an important feature."
   ]
  },
  {
   "cell_type": "code",
   "execution_count": 106,
   "id": "0c72f6f1",
   "metadata": {},
   "outputs": [
    {
     "data": {
      "image/png": "[encoded data removed]",
      "text/plain": [
       "<Figure size 864x288 with 1 Axes>"
      ]
     },
     "metadata": {},
     "output_type": "display_data"
    }
   ],
   "source": [
    "# Graph displaying percentage of long shots by rank difference of the players\n",
    "\n",
    "# Below graph contains only the long shot odds % and is only for the EDA/readme\n",
    "\n",
    "bins = [0,10,20,30,40,50,60,70,80,90,100,1000] # Specifying bins for rank difference\n",
    "binname = ['0-10', '10-20', '20-30', '30-40', '40-50', '50-60', '60-70', '70-80', '80-90', '90-100', '100+'] # Bin names\n",
    "df['RankDiffBucket'] = pd.cut(df['Rank Difference'], bins, labels=binname) # Applying bucket\n",
    "\n",
    "sns.set_style('whitegrid')\n",
    "tempdf = df.groupby('RankDiffBucket')['Long Shot'].value_counts(normalize=True) # New temp df with containing only relevant values\n",
    "tempdf = tempdf.mul(100).rename('Percent').reset_index() # Multiplying values by 100 as 'normalize' sets value between 0 & 1\n",
    "\n",
    "tempdf1 = tempdf[tempdf['Long Shot'] == 1] # New df with only long-shot percentages in it\n",
    "\n",
    "plt.figure(figsize=(12,4))\n",
    "plt.ylim(0,100)\n",
    "\n",
    "splot= sns.barplot(x='RankDiffBucket', y='Percent', data=tempdf1)\n",
    "\n",
    "# Function to display values on top of bars\n",
    "for p in splot.patches:\n",
    "    splot.annotate(format(p.get_height(), '.2f'), \n",
    "                   (p.get_x() + p.get_width() / 2., p.get_height()), \n",
    "                   ha = 'center', va = 'center', \n",
    "                   xytext = (0, 9), \n",
    "                   textcoords = 'offset points')    \n",
    "plt.show()\n"
   ]
  },
  {
   "cell_type": "code",
   "execution_count": 107,
   "id": "7499417b",
   "metadata": {},
   "outputs": [
    {
     "name": "stderr",
     "output_type": "stream",
     "text": [
      "<ipython-input-107-55031bfce612>:10: SettingWithCopyWarning: \n",
      "A value is trying to be set on a copy of a slice from a DataFrame.\n",
      "Try using .loc[row_indexer,col_indexer] = value instead\n",
      "\n",
      "See the caveats in the documentation: https://pandas.pydata.org/pandas-docs/stable/user_guide/indexing.html#returning-a-view-versus-a-copy\n",
      "  tempdf['RankDiffBucket'] = pd.cut(tempdf['Rank Difference'], bins, labels=binname)\n"
     ]
    },
    {
     "data": {
      "image/png": "[encoded data removed]",
      "text/plain": [
       "<Figure size 864x288 with 1 Axes>"
      ]
     },
     "metadata": {},
     "output_type": "display_data"
    }
   ],
   "source": [
    "# Reanalyzing the Rank Difference count data as it was not done correctly\n",
    "\n",
    "# df = df.drop(['RankDiffBucket'], axis=1)\n",
    "df['Rank Difference'] = df['WRank'] - df['LRank'] # New col containing rank difference between loser and winner\n",
    "\n",
    "tempdf = df[df['Long Shot'] == 1] # New df with only long-shot percentages in it\n",
    "\n",
    "bins = [-5000,0,25,50,75,100,200,300,400,500,5000] # Specifying bins for rank difference\n",
    "binname = ['-ve', '0-25', '25-50', '50-75', '75-100', '100-200', '200-300', '300-400', '400-500','500+'] # Bin names\n",
    "tempdf['RankDiffBucket'] = pd.cut(tempdf['Rank Difference'], bins, labels=binname)\n",
    "\n",
    "# tempdf1 = tempdf.groupby('RankDiffBucket')['Long Shot'].value_counts(normalize=True) # New temp df with containing only relevant values\n",
    "# tempdf = tempdf.mul(100).rename('Percent').reset_index()\n",
    "tempdf.head()\n",
    "\n",
    "plt.figure(figsize=(12,4))\n",
    "plt.ylim(0,1200)\n",
    "\n",
    "splot= sns.countplot(x='RankDiffBucket', data=tempdf)\n",
    "splot.set(xlabel='Rank Difference (Winner - Loser)')\n",
    "\n",
    "# Function to display values on top of bars\n",
    "for p in splot.patches:\n",
    "    splot.annotate(format(p.get_height(), '.0f'), \n",
    "                   (p.get_x() + p.get_width() / 2., p.get_height()), \n",
    "                   ha = 'center', va = 'center', \n",
    "                   xytext = (0, 9), \n",
    "                   textcoords = 'offset points')    \n",
    "plt.show()\n",
    "\n"
   ]
  },
  {
   "cell_type": "code",
   "execution_count": 108,
   "id": "e8ba995c",
   "metadata": {},
   "outputs": [],
   "source": [
    "##### EDA did not show any feature strongly corelated to long shot odds, except perhaps that if long shot odds are being\n",
    "##### offered when rank difference is between 35 and 60 (approx), it may make more sense to take it. A possible thing to try\n",
    "##### would be feature engineering new columns - for example, favorite surface and winning streak (form). For now, let's try\n",
    "##### to build a model with the existing features to see if long shots odds can be predicted at a better rate than expected."
   ]
  },
  {
   "cell_type": "code",
   "execution_count": 109,
   "id": "28dd8c9d",
   "metadata": {},
   "outputs": [
    {
     "data": {
      "text/plain": [
       "Index(['B365L', 'B365W', 'Best of', 'Comment', 'Court', 'L1', 'L2', 'L3', 'L4',\n",
       "       'L5', 'LPts', 'LRank', 'Loser', 'Lsets', 'Round', 'Series', 'Surface',\n",
       "       'W1', 'W2', 'W3', 'W4', 'W5', 'WPts', 'WRank', 'Winner', 'Wsets',\n",
       "       'Year', 'Month', 'Long Shot', 'Rank Difference', 'RankDiffBucket'],\n",
       "      dtype='object')"
      ]
     },
     "execution_count": 109,
     "metadata": {},
     "output_type": "execute_result"
    }
   ],
   "source": [
    "df.columns"
   ]
  },
  {
   "cell_type": "code",
   "execution_count": 110,
   "id": "deb5fa0e",
   "metadata": {},
   "outputs": [],
   "source": [
    "# Let's drop the cols which are not useful for making a prediction:\n",
    "# The pre-match odds themselves should have no bearing so we can drop 'B365L', 'B365W'\n",
    "# The set scores of a match should also have no effect so we can drop 'L1', 'L2', 'L3', 'L4', 'L5', 'W1', 'W2', 'W3', 'W4', 'W5'\n",
    "# Likewise we can drop 'Lsets', 'Wsets'\n",
    "# The 'LPts', 'WPts' are related to the ranks so we can drop these\n",
    "# The rank difference already takes into account 'WRank' and 'LRank' so we can drop this as well\n",
    "# The winner and loser name is also irrelevant so we can drop 'Winner' and 'Loser'"
   ]
  },
  {
   "cell_type": "code",
   "execution_count": 111,
   "id": "3ab30ee8",
   "metadata": {},
   "outputs": [
    {
     "data": {
      "text/html": [
       "<div>\n",
       "<style scoped>\n",
       "    .dataframe tbody tr th:only-of-type {\n",
       "        vertical-align: middle;\n",
       "    }\n",
       "\n",
       "    .dataframe tbody tr th {\n",
       "        vertical-align: top;\n",
       "    }\n",
       "\n",
       "    .dataframe thead th {\n",
       "        text-align: right;\n",
       "    }\n",
       "</style>\n",
       "<table border=\"1\" class=\"dataframe\">\n",
       "  <thead>\n",
       "    <tr style=\"text-align: right;\">\n",
       "      <th></th>\n",
       "      <th>Best of</th>\n",
       "      <th>Comment</th>\n",
       "      <th>Court</th>\n",
       "      <th>Round</th>\n",
       "      <th>Series</th>\n",
       "      <th>Surface</th>\n",
       "      <th>Year</th>\n",
       "      <th>Month</th>\n",
       "      <th>Long Shot</th>\n",
       "      <th>Rank Difference</th>\n",
       "      <th>RankDiffBucket</th>\n",
       "    </tr>\n",
       "  </thead>\n",
       "  <tbody>\n",
       "    <tr>\n",
       "      <th>16194</th>\n",
       "      <td>3</td>\n",
       "      <td>1</td>\n",
       "      <td>0</td>\n",
       "      <td>1</td>\n",
       "      <td>7</td>\n",
       "      <td>2</td>\n",
       "      <td>2005</td>\n",
       "      <td>4</td>\n",
       "      <td>0</td>\n",
       "      <td>-92.0</td>\n",
       "      <td>90-100</td>\n",
       "    </tr>\n",
       "    <tr>\n",
       "      <th>16195</th>\n",
       "      <td>3</td>\n",
       "      <td>1</td>\n",
       "      <td>0</td>\n",
       "      <td>1</td>\n",
       "      <td>7</td>\n",
       "      <td>2</td>\n",
       "      <td>2005</td>\n",
       "      <td>4</td>\n",
       "      <td>0</td>\n",
       "      <td>785.0</td>\n",
       "      <td>100+</td>\n",
       "    </tr>\n",
       "    <tr>\n",
       "      <th>16196</th>\n",
       "      <td>3</td>\n",
       "      <td>1</td>\n",
       "      <td>0</td>\n",
       "      <td>1</td>\n",
       "      <td>7</td>\n",
       "      <td>2</td>\n",
       "      <td>2005</td>\n",
       "      <td>5</td>\n",
       "      <td>0</td>\n",
       "      <td>-82.0</td>\n",
       "      <td>80-90</td>\n",
       "    </tr>\n",
       "    <tr>\n",
       "      <th>16197</th>\n",
       "      <td>3</td>\n",
       "      <td>1</td>\n",
       "      <td>0</td>\n",
       "      <td>1</td>\n",
       "      <td>7</td>\n",
       "      <td>2</td>\n",
       "      <td>2005</td>\n",
       "      <td>5</td>\n",
       "      <td>0</td>\n",
       "      <td>-105.0</td>\n",
       "      <td>100+</td>\n",
       "    </tr>\n",
       "    <tr>\n",
       "      <th>16198</th>\n",
       "      <td>3</td>\n",
       "      <td>1</td>\n",
       "      <td>0</td>\n",
       "      <td>1</td>\n",
       "      <td>7</td>\n",
       "      <td>2</td>\n",
       "      <td>2005</td>\n",
       "      <td>5</td>\n",
       "      <td>0</td>\n",
       "      <td>-29.0</td>\n",
       "      <td>20-30</td>\n",
       "    </tr>\n",
       "  </tbody>\n",
       "</table>\n",
       "</div>"
      ],
      "text/plain": [
       "       Best of  Comment  Court  Round  Series  Surface  Year  Month  \\\n",
       "16194        3        1      0      1       7        2  2005      4   \n",
       "16195        3        1      0      1       7        2  2005      4   \n",
       "16196        3        1      0      1       7        2  2005      5   \n",
       "16197        3        1      0      1       7        2  2005      5   \n",
       "16198        3        1      0      1       7        2  2005      5   \n",
       "\n",
       "       Long Shot  Rank Difference RankDiffBucket  \n",
       "16194          0            -92.0         90-100  \n",
       "16195          0            785.0           100+  \n",
       "16196          0            -82.0          80-90  \n",
       "16197          0           -105.0           100+  \n",
       "16198          0            -29.0          20-30  "
      ]
     },
     "execution_count": 111,
     "metadata": {},
     "output_type": "execute_result"
    }
   ],
   "source": [
    "dfmodel = df.drop(['B365L', 'B365W', 'L1', 'L2', 'L3', 'L4', 'L5', 'W1', 'W2', 'W3', 'W4', 'W5', 'Lsets', 'Wsets', 'LPts', 'WPts', 'WRank', 'LRank', 'Winner', 'Loser'], axis=1)\n",
    "dfmodel.head()"
   ]
  },
  {
   "cell_type": "code",
   "execution_count": 112,
   "id": "3b6739ba",
   "metadata": {},
   "outputs": [
    {
     "data": {
      "text/html": [
       "<div>\n",
       "<style scoped>\n",
       "    .dataframe tbody tr th:only-of-type {\n",
       "        vertical-align: middle;\n",
       "    }\n",
       "\n",
       "    .dataframe tbody tr th {\n",
       "        vertical-align: top;\n",
       "    }\n",
       "\n",
       "    .dataframe thead th {\n",
       "        text-align: right;\n",
       "    }\n",
       "</style>\n",
       "<table border=\"1\" class=\"dataframe\">\n",
       "  <thead>\n",
       "    <tr style=\"text-align: right;\">\n",
       "      <th></th>\n",
       "      <th>Best of</th>\n",
       "      <th>Comment</th>\n",
       "      <th>Court</th>\n",
       "      <th>Round</th>\n",
       "      <th>Series</th>\n",
       "      <th>Surface</th>\n",
       "      <th>Year</th>\n",
       "      <th>Month</th>\n",
       "      <th>Long Shot</th>\n",
       "      <th>Rank Difference</th>\n",
       "    </tr>\n",
       "  </thead>\n",
       "  <tbody>\n",
       "    <tr>\n",
       "      <th>16194</th>\n",
       "      <td>3</td>\n",
       "      <td>1</td>\n",
       "      <td>0</td>\n",
       "      <td>1</td>\n",
       "      <td>7</td>\n",
       "      <td>2</td>\n",
       "      <td>2005</td>\n",
       "      <td>4</td>\n",
       "      <td>0</td>\n",
       "      <td>-92.0</td>\n",
       "    </tr>\n",
       "    <tr>\n",
       "      <th>16195</th>\n",
       "      <td>3</td>\n",
       "      <td>1</td>\n",
       "      <td>0</td>\n",
       "      <td>1</td>\n",
       "      <td>7</td>\n",
       "      <td>2</td>\n",
       "      <td>2005</td>\n",
       "      <td>4</td>\n",
       "      <td>0</td>\n",
       "      <td>785.0</td>\n",
       "    </tr>\n",
       "    <tr>\n",
       "      <th>16196</th>\n",
       "      <td>3</td>\n",
       "      <td>1</td>\n",
       "      <td>0</td>\n",
       "      <td>1</td>\n",
       "      <td>7</td>\n",
       "      <td>2</td>\n",
       "      <td>2005</td>\n",
       "      <td>5</td>\n",
       "      <td>0</td>\n",
       "      <td>-82.0</td>\n",
       "    </tr>\n",
       "    <tr>\n",
       "      <th>16197</th>\n",
       "      <td>3</td>\n",
       "      <td>1</td>\n",
       "      <td>0</td>\n",
       "      <td>1</td>\n",
       "      <td>7</td>\n",
       "      <td>2</td>\n",
       "      <td>2005</td>\n",
       "      <td>5</td>\n",
       "      <td>0</td>\n",
       "      <td>-105.0</td>\n",
       "    </tr>\n",
       "    <tr>\n",
       "      <th>16198</th>\n",
       "      <td>3</td>\n",
       "      <td>1</td>\n",
       "      <td>0</td>\n",
       "      <td>1</td>\n",
       "      <td>7</td>\n",
       "      <td>2</td>\n",
       "      <td>2005</td>\n",
       "      <td>5</td>\n",
       "      <td>0</td>\n",
       "      <td>-29.0</td>\n",
       "    </tr>\n",
       "  </tbody>\n",
       "</table>\n",
       "</div>"
      ],
      "text/plain": [
       "       Best of  Comment  Court  Round  Series  Surface  Year  Month  \\\n",
       "16194        3        1      0      1       7        2  2005      4   \n",
       "16195        3        1      0      1       7        2  2005      4   \n",
       "16196        3        1      0      1       7        2  2005      5   \n",
       "16197        3        1      0      1       7        2  2005      5   \n",
       "16198        3        1      0      1       7        2  2005      5   \n",
       "\n",
       "       Long Shot  Rank Difference  \n",
       "16194          0            -92.0  \n",
       "16195          0            785.0  \n",
       "16196          0            -82.0  \n",
       "16197          0           -105.0  \n",
       "16198          0            -29.0  "
      ]
     },
     "execution_count": 112,
     "metadata": {},
     "output_type": "execute_result"
    }
   ],
   "source": [
    "# Dropping RankDiffBucket so that just Rank Difference col is retained\n",
    "dfmodel = dfmodel.drop(['RankDiffBucket'], axis = 1)\n",
    "dfmodel.head()"
   ]
  },
  {
   "cell_type": "code",
   "execution_count": 113,
   "id": "d7405059",
   "metadata": {},
   "outputs": [
    {
     "name": "stdout",
     "output_type": "stream",
     "text": [
      "<class 'pandas.core.frame.DataFrame'>\n",
      "Int64Index: 37932 entries, 16194 to 54907\n",
      "Data columns (total 10 columns):\n",
      " #   Column           Non-Null Count  Dtype  \n",
      "---  ------           --------------  -----  \n",
      " 0   Best of          37932 non-null  int64  \n",
      " 1   Comment          37932 non-null  int64  \n",
      " 2   Court            37932 non-null  int64  \n",
      " 3   Round            37932 non-null  int64  \n",
      " 4   Series           37932 non-null  int64  \n",
      " 5   Surface          37932 non-null  int64  \n",
      " 6   Year             37932 non-null  int64  \n",
      " 7   Month            37932 non-null  int64  \n",
      " 8   Long Shot        37932 non-null  int64  \n",
      " 9   Rank Difference  37932 non-null  float64\n",
      "dtypes: float64(1), int64(9)\n",
      "memory usage: 3.2 MB\n"
     ]
    }
   ],
   "source": [
    "dfmodel.info()"
   ]
  },
  {
   "cell_type": "code",
   "execution_count": 70,
   "id": "6d120683",
   "metadata": {},
   "outputs": [],
   "source": [
    "++\n",
    "# Long Shot: Whether long shot won (1) or didn't (0)"
   ]
  },
  {
   "cell_type": "code",
   "execution_count": 114,
   "id": "baf3bbae",
   "metadata": {},
   "outputs": [
    {
     "data": {
      "text/html": [
       "<div>\n",
       "<style scoped>\n",
       "    .dataframe tbody tr th:only-of-type {\n",
       "        vertical-align: middle;\n",
       "    }\n",
       "\n",
       "    .dataframe tbody tr th {\n",
       "        vertical-align: top;\n",
       "    }\n",
       "\n",
       "    .dataframe thead th {\n",
       "        text-align: right;\n",
       "    }\n",
       "</style>\n",
       "<table border=\"1\" class=\"dataframe\">\n",
       "  <thead>\n",
       "    <tr style=\"text-align: right;\">\n",
       "      <th></th>\n",
       "      <th>Best of</th>\n",
       "      <th>Comment</th>\n",
       "      <th>Court</th>\n",
       "      <th>Round</th>\n",
       "      <th>Series</th>\n",
       "      <th>Surface</th>\n",
       "      <th>Year</th>\n",
       "      <th>Month</th>\n",
       "      <th>Rank Difference</th>\n",
       "      <th>Long Shot</th>\n",
       "    </tr>\n",
       "  </thead>\n",
       "  <tbody>\n",
       "    <tr>\n",
       "      <th>16194</th>\n",
       "      <td>3</td>\n",
       "      <td>1</td>\n",
       "      <td>0</td>\n",
       "      <td>1</td>\n",
       "      <td>7</td>\n",
       "      <td>2</td>\n",
       "      <td>2005</td>\n",
       "      <td>4</td>\n",
       "      <td>-92.0</td>\n",
       "      <td>0</td>\n",
       "    </tr>\n",
       "    <tr>\n",
       "      <th>16195</th>\n",
       "      <td>3</td>\n",
       "      <td>1</td>\n",
       "      <td>0</td>\n",
       "      <td>1</td>\n",
       "      <td>7</td>\n",
       "      <td>2</td>\n",
       "      <td>2005</td>\n",
       "      <td>4</td>\n",
       "      <td>785.0</td>\n",
       "      <td>0</td>\n",
       "    </tr>\n",
       "    <tr>\n",
       "      <th>16196</th>\n",
       "      <td>3</td>\n",
       "      <td>1</td>\n",
       "      <td>0</td>\n",
       "      <td>1</td>\n",
       "      <td>7</td>\n",
       "      <td>2</td>\n",
       "      <td>2005</td>\n",
       "      <td>5</td>\n",
       "      <td>-82.0</td>\n",
       "      <td>0</td>\n",
       "    </tr>\n",
       "    <tr>\n",
       "      <th>16197</th>\n",
       "      <td>3</td>\n",
       "      <td>1</td>\n",
       "      <td>0</td>\n",
       "      <td>1</td>\n",
       "      <td>7</td>\n",
       "      <td>2</td>\n",
       "      <td>2005</td>\n",
       "      <td>5</td>\n",
       "      <td>-105.0</td>\n",
       "      <td>0</td>\n",
       "    </tr>\n",
       "    <tr>\n",
       "      <th>16198</th>\n",
       "      <td>3</td>\n",
       "      <td>1</td>\n",
       "      <td>0</td>\n",
       "      <td>1</td>\n",
       "      <td>7</td>\n",
       "      <td>2</td>\n",
       "      <td>2005</td>\n",
       "      <td>5</td>\n",
       "      <td>-29.0</td>\n",
       "      <td>0</td>\n",
       "    </tr>\n",
       "  </tbody>\n",
       "</table>\n",
       "</div>"
      ],
      "text/plain": [
       "       Best of  Comment  Court  Round  Series  Surface  Year  Month  \\\n",
       "16194        3        1      0      1       7        2  2005      4   \n",
       "16195        3        1      0      1       7        2  2005      4   \n",
       "16196        3        1      0      1       7        2  2005      5   \n",
       "16197        3        1      0      1       7        2  2005      5   \n",
       "16198        3        1      0      1       7        2  2005      5   \n",
       "\n",
       "       Rank Difference  Long Shot  \n",
       "16194            -92.0          0  \n",
       "16195            785.0          0  \n",
       "16196            -82.0          0  \n",
       "16197           -105.0          0  \n",
       "16198            -29.0          0  "
      ]
     },
     "execution_count": 114,
     "metadata": {},
     "output_type": "execute_result"
    }
   ],
   "source": [
    "# Moving Long Shot col to the end\n",
    "df1 = dfmodel.pop('Long Shot')\n",
    "dfmodel['Long Shot'] = df1\n",
    "dfmodel.head()"
   ]
  },
  {
   "cell_type": "code",
   "execution_count": 115,
   "id": "b979f3da",
   "metadata": {},
   "outputs": [
    {
     "data": {
      "text/html": [
       "<div>\n",
       "<style scoped>\n",
       "    .dataframe tbody tr th:only-of-type {\n",
       "        vertical-align: middle;\n",
       "    }\n",
       "\n",
       "    .dataframe tbody tr th {\n",
       "        vertical-align: top;\n",
       "    }\n",
       "\n",
       "    .dataframe thead th {\n",
       "        text-align: right;\n",
       "    }\n",
       "</style>\n",
       "<table border=\"1\" class=\"dataframe\">\n",
       "  <thead>\n",
       "    <tr style=\"text-align: right;\">\n",
       "      <th></th>\n",
       "      <th>Best of</th>\n",
       "      <th>Comment</th>\n",
       "      <th>Court</th>\n",
       "      <th>Round</th>\n",
       "      <th>Series</th>\n",
       "      <th>Surface</th>\n",
       "      <th>Year</th>\n",
       "      <th>Month</th>\n",
       "      <th>Rank Difference</th>\n",
       "    </tr>\n",
       "  </thead>\n",
       "  <tbody>\n",
       "    <tr>\n",
       "      <th>0</th>\n",
       "      <td>-0.483572</td>\n",
       "      <td>0.183834</td>\n",
       "      <td>-0.471917</td>\n",
       "      <td>-0.741774</td>\n",
       "      <td>1.609807</td>\n",
       "      <td>0.518194</td>\n",
       "      <td>-1.721592</td>\n",
       "      <td>-0.606589</td>\n",
       "      <td>-0.475358</td>\n",
       "    </tr>\n",
       "    <tr>\n",
       "      <th>1</th>\n",
       "      <td>-0.483572</td>\n",
       "      <td>0.183834</td>\n",
       "      <td>-0.471917</td>\n",
       "      <td>-0.741774</td>\n",
       "      <td>1.609807</td>\n",
       "      <td>0.518194</td>\n",
       "      <td>-1.721592</td>\n",
       "      <td>-0.606589</td>\n",
       "      <td>6.456860</td>\n",
       "    </tr>\n",
       "    <tr>\n",
       "      <th>2</th>\n",
       "      <td>-0.483572</td>\n",
       "      <td>0.183834</td>\n",
       "      <td>-0.471917</td>\n",
       "      <td>-0.741774</td>\n",
       "      <td>1.609807</td>\n",
       "      <td>0.518194</td>\n",
       "      <td>-1.721592</td>\n",
       "      <td>-0.291283</td>\n",
       "      <td>-0.396314</td>\n",
       "    </tr>\n",
       "    <tr>\n",
       "      <th>3</th>\n",
       "      <td>-0.483572</td>\n",
       "      <td>0.183834</td>\n",
       "      <td>-0.471917</td>\n",
       "      <td>-0.741774</td>\n",
       "      <td>1.609807</td>\n",
       "      <td>0.518194</td>\n",
       "      <td>-1.721592</td>\n",
       "      <td>-0.291283</td>\n",
       "      <td>-0.578116</td>\n",
       "    </tr>\n",
       "    <tr>\n",
       "      <th>4</th>\n",
       "      <td>-0.483572</td>\n",
       "      <td>0.183834</td>\n",
       "      <td>-0.471917</td>\n",
       "      <td>-0.741774</td>\n",
       "      <td>1.609807</td>\n",
       "      <td>0.518194</td>\n",
       "      <td>-1.721592</td>\n",
       "      <td>-0.291283</td>\n",
       "      <td>0.022623</td>\n",
       "    </tr>\n",
       "  </tbody>\n",
       "</table>\n",
       "</div>"
      ],
      "text/plain": [
       "    Best of   Comment     Court     Round    Series   Surface      Year  \\\n",
       "0 -0.483572  0.183834 -0.471917 -0.741774  1.609807  0.518194 -1.721592   \n",
       "1 -0.483572  0.183834 -0.471917 -0.741774  1.609807  0.518194 -1.721592   \n",
       "2 -0.483572  0.183834 -0.471917 -0.741774  1.609807  0.518194 -1.721592   \n",
       "3 -0.483572  0.183834 -0.471917 -0.741774  1.609807  0.518194 -1.721592   \n",
       "4 -0.483572  0.183834 -0.471917 -0.741774  1.609807  0.518194 -1.721592   \n",
       "\n",
       "      Month  Rank Difference  \n",
       "0 -0.606589        -0.475358  \n",
       "1 -0.606589         6.456860  \n",
       "2 -0.291283        -0.396314  \n",
       "3 -0.291283        -0.578116  \n",
       "4 -0.291283         0.022623  "
      ]
     },
     "execution_count": 115,
     "metadata": {},
     "output_type": "execute_result"
    }
   ],
   "source": [
    "# First let's scale the data\n",
    "\n",
    "from sklearn.preprocessing import StandardScaler\n",
    "\n",
    "scaler = StandardScaler()\n",
    "scaler.fit(dfmodel.drop('Long Shot',axis=1))\n",
    "scaled_features = scaler.transform(dfmodel.drop('Long Shot',axis=1))\n",
    "df_feat = pd.DataFrame(scaled_features,columns=dfmodel.columns[:-1])\n",
    "df_feat.head()\n"
   ]
  },
  {
   "cell_type": "code",
   "execution_count": 119,
   "id": "581b7a31",
   "metadata": {},
   "outputs": [
    {
     "data": {
      "text/plain": [
       "0.0    19090\n",
       "1.0     2082\n",
       "Name: Long Shot, dtype: int64"
      ]
     },
     "execution_count": 119,
     "metadata": {},
     "output_type": "execute_result"
    }
   ],
   "source": [
    "# Adding back Long Shot coloumn at the end\n",
    "\n",
    "df_feat['Long Shot'] = dfmodel['Long Shot']\n",
    "df_feat['Long Shot'].value_counts()"
   ]
  },
  {
   "cell_type": "code",
   "execution_count": 120,
   "id": "ba617d2b",
   "metadata": {},
   "outputs": [],
   "source": [
    "# Splitting data into train and test sets with the 'Long Shot' col used for the classification.\n",
    "\n",
    "from sklearn.model_selection import train_test_split\n",
    "\n",
    "X_train, X_test, y_train, y_test = train_test_split(dfmodel.drop('Long Shot',axis=1), \n",
    "                                                    dfmodel['Long Shot'], test_size=0.30, \n",
    "                                                    random_state=101)"
   ]
  },
  {
   "cell_type": "code",
   "execution_count": 121,
   "id": "17f8f5be",
   "metadata": {},
   "outputs": [],
   "source": [
    "# Applying a simple logistic regression model on the data and get predictions\n",
    "\n",
    "from sklearn.linear_model import LogisticRegression\n",
    "\n",
    "logmodel = LogisticRegression(max_iter=1000)\n",
    "logmodel.fit(X_train,y_train)\n",
    "predictions = logmodel.predict(X_test)\n"
   ]
  },
  {
   "cell_type": "code",
   "execution_count": 122,
   "id": "b8f62011",
   "metadata": {},
   "outputs": [
    {
     "name": "stdout",
     "output_type": "stream",
     "text": [
      "              precision    recall  f1-score   support\n",
      "\n",
      "           0       0.91      0.99      0.95     10295\n",
      "           1       0.43      0.10      0.16      1085\n",
      "\n",
      "    accuracy                           0.90     11380\n",
      "   macro avg       0.67      0.54      0.55     11380\n",
      "weighted avg       0.87      0.90      0.87     11380\n",
      "\n",
      "\n",
      "\n",
      "[[10155   140]\n",
      " [  980   105]]\n"
     ]
    }
   ],
   "source": [
    "# Model evaluation \n",
    "\n",
    "from sklearn.metrics import classification_report, confusion_matrix\n",
    "\n",
    "print(classification_report(y_test,predictions))\n",
    "print('\\n')\n",
    "print(confusion_matrix(y_test,predictions))\n"
   ]
  },
  {
   "cell_type": "code",
   "execution_count": 123,
   "id": "7718e7f3",
   "metadata": {},
   "outputs": [
    {
     "name": "stdout",
     "output_type": "stream",
     "text": [
      "              precision    recall  f1-score   support\n",
      "\n",
      "           0       0.92      0.96      0.94     10295\n",
      "           1       0.42      0.24      0.31      1085\n",
      "\n",
      "    accuracy                           0.90     11380\n",
      "   macro avg       0.67      0.60      0.62     11380\n",
      "weighted avg       0.88      0.90      0.88     11380\n",
      "\n",
      "\n",
      "\n",
      "[[9929  366]\n",
      " [ 823  262]]\n"
     ]
    }
   ],
   "source": [
    "#Random Forest\n",
    "from sklearn.tree import DecisionTreeClassifier\n",
    "from sklearn.ensemble import RandomForestClassifier\n",
    "rfc = RandomForestClassifier(n_estimators=100)\n",
    "rfc.fit(X_train, y_train)\n",
    "rfc_pred = rfc.predict(X_test)\n",
    "from sklearn.metrics import classification_report, confusion_matrix\n",
    "print(classification_report(y_test,rfc_pred))\n",
    "print('\\n')\n",
    "print(confusion_matrix(y_test,rfc_pred))"
   ]
  },
  {
   "cell_type": "code",
   "execution_count": null,
   "id": "b4abf0b0",
   "metadata": {},
   "outputs": [],
   "source": []
  },
  {
   "cell_type": "code",
   "execution_count": null,
   "id": "eac7b014",
   "metadata": {},
   "outputs": [],
   "source": []
  },
  {
   "cell_type": "code",
   "execution_count": null,
   "id": "431018e5",
   "metadata": {},
   "outputs": [],
   "source": []
  }
 ],
 "metadata": {
  "kernelspec": {
   "display_name": "Python 3",
   "language": "python",
   "name": "python3"
  },
  "language_info": {
   "codemirror_mode": {
    "name": "ipython",
    "version": 3
   },
   "file_extension": ".py",
   "mimetype": "text/x-python",
   "name": "python",
   "nbconvert_exporter": "python",
   "pygments_lexer": "ipython3",
   "version": "3.8.8"
  }
 },
 "nbformat": 4,
 "nbformat_minor": 5
}
